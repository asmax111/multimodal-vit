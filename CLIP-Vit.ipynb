{
 "cells": [
  {
   "cell_type": "code",
   "execution_count": 1,
   "metadata": {},
   "outputs": [
    {
     "name": "stderr",
     "output_type": "stream",
     "text": [
      "/Users/asmae/.local/lib/python3.11/site-packages/tqdm/auto.py:21: TqdmWarning: IProgress not found. Please update jupyter and ipywidgets. See https://ipywidgets.readthedocs.io/en/stable/user_install.html\n",
      "  from .autonotebook import tqdm as notebook_tqdm\n"
     ]
    }
   ],
   "source": [
    "import numpy as np\n",
    "import pandas as pd\n",
    "import torch\n",
    "import requests\n",
    "import transformers\n",
    "import datasets\n",
    "from PIL import Image\n",
    "from transformers import CLIPTokenizerFast, CLIPProcessor, CLIPModel"
   ]
  },
  {
   "cell_type": "code",
   "execution_count": 2,
   "metadata": {},
   "outputs": [],
   "source": [
    "device = \"cuda\" if torch.cuda.is_available() else \"cpu\"\n",
    "# usage of pretrained VIT model\n",
    "model_id = \"openai/clip-vit-base-patch32\"\n",
    "\n",
    "# we initialize a tokenizer, image processor, and the model itself\n",
    "tokenizer = CLIPTokenizerFast.from_pretrained(model_id)\n",
    "processor = CLIPProcessor.from_pretrained(model_id)\n",
    "model = CLIPModel.from_pretrained(model_id).to(device)"
   ]
  },
  {
   "cell_type": "code",
   "execution_count": 12,
   "metadata": {},
   "outputs": [],
   "source": [
    "urls=['https://images.unsplash.com/photo-1662955676669-c5d141718bfd?ixlib=rb-1.2.1&ixid=MnwxMjA3fDB8MHxwaG90by1wYWdlfHx8fGVufDB8fHx8&auto=format&fit=crop&w=687&q=80',\n",
    "    'https://images.unsplash.com/photo-1552053831-71594a27632d?ixlib=rb-1.2.1&ixid=MnwxMjA3fDB8MHxwaG90by1wYWdlfHx8fGVufDB8fHx8&auto=format&fit=crop&w=662&q=80',\n",
    "    'https://images.unsplash.com/photo-1530281700549-e82e7bf110d6?ixlib=rb-1.2.1&ixid=MnwxMjA3fDB8MHxwaG90by1wYWdlfHx8fGVufDB8fHx8&auto=format&fit=crop&w=688&q=80']\n",
    "\n",
    "images=[Image.open(requests.get(i, stream=True).raw)  for i in urls]\n",
    "images=[Image.open(\"Maps snapshots/Intersection.jpeg\"), Image.open(\"Maps snapshots/Rectiligne.jpeg\")]"
   ]
  },
  {
   "cell_type": "code",
   "execution_count": 23,
   "metadata": {},
   "outputs": [],
   "source": [
    "# text_prompts=[\"a girl wearing a beanie\", \"a boy wearing a beanie\", \"a dog\", \"a dog at the beach\"]\n",
    "text_prompts=[\"Good speed camera location\", \"Bad speed camera location\"]\n",
    "inputs = processor(text=text_prompts, images=images, return_tensors=\"pt\", padding=True)\n",
    "\n",
    "outputs = model(**inputs)\n",
    "logits_per_image = outputs.logits_per_image \n",
    "probs = logits_per_image.softmax(dim=1) "
   ]
  },
  {
   "cell_type": "code",
   "execution_count": 22,
   "metadata": {},
   "outputs": [
    {
     "data": {
      "text/html": [
       "<style type=\"text/css\">\n",
       "#T_c9131_row0_col0 {\n",
       "  background-color: #96b6d7;\n",
       "  color: #000000;\n",
       "}\n",
       "#T_c9131_row0_col1 {\n",
       "  background-color: #efe9f3;\n",
       "  color: #000000;\n",
       "}\n",
       "#T_c9131_row1_col0 {\n",
       "  background-color: #67a4cc;\n",
       "  color: #f1f1f1;\n",
       "}\n",
       "#T_c9131_row1_col1 {\n",
       "  background-color: #fff7fb;\n",
       "  color: #000000;\n",
       "}\n",
       "</style>\n",
       "<table id=\"T_c9131\">\n",
       "  <thead>\n",
       "    <tr>\n",
       "      <th class=\"blank level0\" >&nbsp;</th>\n",
       "      <th id=\"T_c9131_level0_col0\" class=\"col_heading level0 col0\" >Good speed camera location</th>\n",
       "      <th id=\"T_c9131_level0_col1\" class=\"col_heading level0 col1\" >Bad speed camera location</th>\n",
       "    </tr>\n",
       "  </thead>\n",
       "  <tbody>\n",
       "    <tr>\n",
       "      <th id=\"T_c9131_level0_row0\" class=\"row_heading level0 row0\" >image1</th>\n",
       "      <td id=\"T_c9131_row0_col0\" class=\"data row0 col0\" >62.01</td>\n",
       "      <td id=\"T_c9131_row0_col1\" class=\"data row0 col1\" >37.99</td>\n",
       "    </tr>\n",
       "    <tr>\n",
       "      <th id=\"T_c9131_level0_row1\" class=\"row_heading level0 row1\" >image2</th>\n",
       "      <td id=\"T_c9131_row1_col0\" class=\"data row1 col0\" >70.36</td>\n",
       "      <td id=\"T_c9131_row1_col1\" class=\"data row1 col1\" >29.64</td>\n",
       "    </tr>\n",
       "  </tbody>\n",
       "</table>\n"
      ],
      "text/plain": [
       "<pandas.io.formats.style.Styler at 0x17c437810>"
      ]
     },
     "execution_count": 22,
     "metadata": {},
     "output_type": "execute_result"
    }
   ],
   "source": [
    "pd.DataFrame(probs.detach().numpy()*100, columns=text_prompts, index=list(['image1','image2'])).style.background_gradient(axis=None,low=0, high=0.91).format(precision=2)"
   ]
  },
  {
   "cell_type": "code",
   "execution_count": 7,
   "metadata": {},
   "outputs": [],
   "source": [
    "from typing import List\n",
    "import matplotlib.pyplot as plt\n",
    "import numpy as np\n",
    "from PIL import Image\n",
    "\n",
    "\n",
    "def visualize_result(image:Image, labels:List[str], probs:np.ndarray, top:int = 5):\n",
    "    \"\"\"\n",
    "    Utility function for visualization classification results\n",
    "    params:\n",
    "      image: input image\n",
    "      labels: list of classification labels\n",
    "      probs: model predicted softmaxed probabilities for each label\n",
    "      top: number of the highest probability results for visualization\n",
    "    returns:\n",
    "      None\n",
    "    \"\"\"\n",
    "    plt.figure(figsize=(64, 64))\n",
    "    top_labels = np.argsort(-probs)[:min(top, probs.shape[0])]\n",
    "    top_probs = probs[top_labels]\n",
    "    plt.subplot(8, 8, 1)\n",
    "    plt.imshow(image)\n",
    "    plt.axis(\"off\")\n",
    "\n",
    "    plt.subplot(8, 8, 2)\n",
    "    y = np.arange(top_probs.shape[-1])\n",
    "    plt.grid()\n",
    "    plt.barh(y, top_probs)\n",
    "    plt.gca().invert_yaxis()\n",
    "    plt.gca().set_axisbelow(True)\n",
    "    plt.yticks(y, [labels[index] for index in top_labels])\n",
    "    plt.xlabel(\"probability\")"
   ]
  }
 ],
 "metadata": {
  "kernelspec": {
   "display_name": "clip-vit",
   "language": "python",
   "name": "python3"
  },
  "language_info": {
   "codemirror_mode": {
    "name": "ipython",
    "version": 3
   },
   "file_extension": ".py",
   "mimetype": "text/x-python",
   "name": "python",
   "nbconvert_exporter": "python",
   "pygments_lexer": "ipython3",
   "version": "3.11.3"
  },
  "orig_nbformat": 4
 },
 "nbformat": 4,
 "nbformat_minor": 2
}
