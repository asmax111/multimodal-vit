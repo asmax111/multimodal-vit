{
 "cells": [
  {
   "cell_type": "code",
   "execution_count": 134,
   "metadata": {},
   "outputs": [],
   "source": [
    "\n",
    "%reload_ext autoreload\n",
    "%autoreload 2\n",
    "%matplotlib inline"
   ]
  },
  {
   "cell_type": "code",
   "execution_count": 135,
   "metadata": {},
   "outputs": [],
   "source": [
    "from fastai.vision import *\n",
    "from fastai.tabular import *\n"
   ]
  },
  {
   "cell_type": "code",
   "execution_count": 136,
   "metadata": {},
   "outputs": [],
   "source": [
    "from image_tabular.core import *\n",
    "from image_tabular.dataset import *\n",
    "from image_tabular.model import *\n",
    "from image_tabular.metric import *"
   ]
  },
  {
   "cell_type": "code",
   "execution_count": 137,
   "metadata": {},
   "outputs": [],
   "source": [
    "device = torch.device('cuda:0' if torch.cuda.is_available() else 'cpu')"
   ]
  },
  {
   "cell_type": "code",
   "execution_count": 138,
   "metadata": {},
   "outputs": [],
   "source": [
    "import warnings\n",
    "warnings.filterwarnings(\"ignore\", category=UserWarning, module=\"torch.nn.functional\")"
   ]
  },
  {
   "cell_type": "code",
   "execution_count": 139,
   "metadata": {},
   "outputs": [
    {
     "name": "stdout",
     "output_type": "stream",
     "text": [
      "73 10\n"
     ]
    }
   ],
   "source": [
    "data_path = Path(\"./Dataset/\")\n",
    "train_df = pd.read_csv(data_path/\"DATASET1304.csv\")\n",
    "test_df = pd.read_csv(data_path/\"DATASET1304-tests.csv\")\n",
    "\n",
    "print(len(train_df), len(test_df))"
   ]
  },
  {
   "cell_type": "code",
   "execution_count": 140,
   "metadata": {},
   "outputs": [
    {
     "data": {
      "text/html": [
       "<div>\n",
       "<style scoped>\n",
       "    .dataframe tbody tr th:only-of-type {\n",
       "        vertical-align: middle;\n",
       "    }\n",
       "\n",
       "    .dataframe tbody tr th {\n",
       "        vertical-align: top;\n",
       "    }\n",
       "\n",
       "    .dataframe thead th {\n",
       "        text-align: right;\n",
       "    }\n",
       "</style>\n",
       "<table border=\"1\" class=\"dataframe\">\n",
       "  <thead>\n",
       "    <tr style=\"text-align: right;\">\n",
       "      <th></th>\n",
       "      <th>TMJA</th>\n",
       "      <th>LANES</th>\n",
       "      <th>TYPE TRAIT</th>\n",
       "      <th>HAS SHOULDER</th>\n",
       "      <th>VITESSE LIMITE</th>\n",
       "      <th>TR</th>\n",
       "      <th>P_PENETRANTE</th>\n",
       "      <th>P_PEAGE</th>\n",
       "      <th>P_AIRE_SERVICE</th>\n",
       "      <th>ENTREE VILLE</th>\n",
       "      <th>DMU</th>\n",
       "      <th>SCORE</th>\n",
       "      <th>Image</th>\n",
       "    </tr>\n",
       "  </thead>\n",
       "  <tbody>\n",
       "    <tr>\n",
       "      <th>0</th>\n",
       "      <td>10588</td>\n",
       "      <td>6</td>\n",
       "      <td>0</td>\n",
       "      <td>0</td>\n",
       "      <td>60</td>\n",
       "      <td>0</td>\n",
       "      <td>0</td>\n",
       "      <td>0</td>\n",
       "      <td>0</td>\n",
       "      <td>0</td>\n",
       "      <td>14</td>\n",
       "      <td>1</td>\n",
       "      <td>intersection.1</td>\n",
       "    </tr>\n",
       "    <tr>\n",
       "      <th>1</th>\n",
       "      <td>10588</td>\n",
       "      <td>6</td>\n",
       "      <td>0</td>\n",
       "      <td>0</td>\n",
       "      <td>60</td>\n",
       "      <td>0</td>\n",
       "      <td>0</td>\n",
       "      <td>0</td>\n",
       "      <td>0</td>\n",
       "      <td>0</td>\n",
       "      <td>14</td>\n",
       "      <td>1</td>\n",
       "      <td>intersection.4</td>\n",
       "    </tr>\n",
       "    <tr>\n",
       "      <th>2</th>\n",
       "      <td>11003</td>\n",
       "      <td>3</td>\n",
       "      <td>1</td>\n",
       "      <td>0</td>\n",
       "      <td>80</td>\n",
       "      <td>2</td>\n",
       "      <td>0</td>\n",
       "      <td>0</td>\n",
       "      <td>0</td>\n",
       "      <td>1</td>\n",
       "      <td>2</td>\n",
       "      <td>1</td>\n",
       "      <td>intersection.7</td>\n",
       "    </tr>\n",
       "    <tr>\n",
       "      <th>3</th>\n",
       "      <td>11003</td>\n",
       "      <td>2</td>\n",
       "      <td>1</td>\n",
       "      <td>0</td>\n",
       "      <td>80</td>\n",
       "      <td>2</td>\n",
       "      <td>0</td>\n",
       "      <td>0</td>\n",
       "      <td>0</td>\n",
       "      <td>1</td>\n",
       "      <td>2</td>\n",
       "      <td>1</td>\n",
       "      <td>intersection.10</td>\n",
       "    </tr>\n",
       "    <tr>\n",
       "      <th>4</th>\n",
       "      <td>4786</td>\n",
       "      <td>2</td>\n",
       "      <td>1</td>\n",
       "      <td>0</td>\n",
       "      <td>60</td>\n",
       "      <td>2</td>\n",
       "      <td>0</td>\n",
       "      <td>0</td>\n",
       "      <td>0</td>\n",
       "      <td>1</td>\n",
       "      <td>1</td>\n",
       "      <td>1</td>\n",
       "      <td>intersection.13</td>\n",
       "    </tr>\n",
       "  </tbody>\n",
       "</table>\n",
       "</div>"
      ],
      "text/plain": [
       "    TMJA  LANES  TYPE TRAIT  HAS SHOULDER  VITESSE LIMITE  TR  P_PENETRANTE  \\\n",
       "0  10588      6           0             0              60   0             0   \n",
       "1  10588      6           0             0              60   0             0   \n",
       "2  11003      3           1             0              80   2             0   \n",
       "3  11003      2           1             0              80   2             0   \n",
       "4   4786      2           1             0              60   2             0   \n",
       "\n",
       "   P_PEAGE  P_AIRE_SERVICE  ENTREE VILLE  DMU  SCORE            Image  \n",
       "0        0               0             0   14      1   intersection.1  \n",
       "1        0               0             0   14      1   intersection.4  \n",
       "2        0               0             1    2      1   intersection.7  \n",
       "3        0               0             1    2      1  intersection.10  \n",
       "4        0               0             1    1      1  intersection.13  "
      ]
     },
     "execution_count": 140,
     "metadata": {},
     "output_type": "execute_result"
    }
   ],
   "source": [
    "train_df.head()"
   ]
  },
  {
   "cell_type": "code",
   "execution_count": 141,
   "metadata": {},
   "outputs": [
    {
     "data": {
      "text/plain": [
       "1    0.643836\n",
       "0    0.356164\n",
       "Name: SCORE, dtype: float64"
      ]
     },
     "execution_count": 141,
     "metadata": {},
     "output_type": "execute_result"
    }
   ],
   "source": [
    "\n",
    "# extremely unbalanced dataset, most of the images are benign\n",
    "train_df[\"SCORE\"].value_counts(normalize=True)"
   ]
  },
  {
   "attachments": {},
   "cell_type": "markdown",
   "metadata": {},
   "source": [
    "Image data"
   ]
  },
  {
   "cell_type": "code",
   "execution_count": 142,
   "metadata": {},
   "outputs": [],
   "source": [
    "import matplotlib.image as mpimg\n",
    "import os, sys\n",
    "from PIL import Image\n",
    "from matplotlib import pyplot as plt\n",
    "\n",
    "\n",
    "image_path = Path(\"./Maps-snapshots/train_images/\")\n",
    "image_path_processed = \"./Maps-snapshots/train_images_processed/\"\n",
    "size = 128, 128\n",
    "images = []\n",
    "for filename in os.listdir(image_path):\n",
    "        im = Image.open(os.path.join(image_path, Path(filename)))\n",
    "        area = (0, 0, 128, 128)\n",
    "        img = im.resize(size, Image.ANTIALIAS)\n",
    "        img.save(image_path_processed+filename, \"png\")\n"
   ]
  },
  {
   "cell_type": "code",
   "execution_count": 143,
   "metadata": {},
   "outputs": [],
   "source": [
    "import matplotlib.image as mpimg\n",
    "import os, sys\n",
    "from PIL import Image\n",
    "from matplotlib import pyplot as plt\n",
    "\n",
    "\n",
    "image_path = Path(\"./Maps-snapshots/test_images/\")\n",
    "image_path_processed = \"./Maps-snapshots/test_images_processed/\"\n",
    "size = 128, 128\n",
    "images = []\n",
    "for filename in os.listdir(image_path):\n",
    "        im = Image.open(os.path.join(image_path, Path(filename)))\n",
    "        area = (0, 0, 128, 128)\n",
    "        img = im.resize(size, Image.ANTIALIAS)\n",
    "        img.save(image_path_processed+filename, \"png\")"
   ]
  },
  {
   "cell_type": "code",
   "execution_count": 150,
   "metadata": {},
   "outputs": [],
   "source": [
    "tfms = get_transforms(flip_vert=True)\n",
    "size = 128 "
   ]
  },
  {
   "cell_type": "code",
   "execution_count": 151,
   "metadata": {},
   "outputs": [
    {
     "data": {
      "text/plain": [
       "14"
      ]
     },
     "execution_count": 151,
     "metadata": {},
     "output_type": "execute_result"
    }
   ],
   "source": [
    "# idx for validation, shared by image and tabular data\n",
    "val_idx = get_valid_index(train_df)\n",
    "len(val_idx)"
   ]
  },
  {
   "cell_type": "code",
   "execution_count": 152,
   "metadata": {},
   "outputs": [],
   "source": [
    "# load image data using train_df and prepare fastai LabelLists\n",
    "image_path = Path(\"./Maps-snapshots/\")\n",
    "image_data = (ImageList.from_df(train_df, path=image_path, cols=\"Image\",\n",
    "                               folder=\"train_images_processed\", suffix=\".png\")\n",
    "              .split_by_idx(val_idx)\n",
    "              .label_from_df(cols=\"SCORE\"))\n"
   ]
  },
  {
   "cell_type": "code",
   "execution_count": 154,
   "metadata": {},
   "outputs": [
    {
     "ename": "KeyError",
     "evalue": "'Image'",
     "output_type": "error",
     "traceback": [
      "\u001b[1;31m---------------------------------------------------------------------------\u001b[0m",
      "\u001b[1;31mKeyError\u001b[0m                                  Traceback (most recent call last)",
      "File \u001b[1;32mc:\\Users\\rhanizar\\anaconda3\\envs\\multimodal\\lib\\site-packages\\pandas\\core\\indexes\\base.py:3361\u001b[0m, in \u001b[0;36mIndex.get_loc\u001b[1;34m(self, key, method, tolerance)\u001b[0m\n\u001b[0;32m   3360\u001b[0m \u001b[39mtry\u001b[39;00m:\n\u001b[1;32m-> 3361\u001b[0m     \u001b[39mreturn\u001b[39;00m \u001b[39mself\u001b[39;49m\u001b[39m.\u001b[39;49m_engine\u001b[39m.\u001b[39;49mget_loc(casted_key)\n\u001b[0;32m   3362\u001b[0m \u001b[39mexcept\u001b[39;00m \u001b[39mKeyError\u001b[39;00m \u001b[39mas\u001b[39;00m err:\n",
      "File \u001b[1;32mc:\\Users\\rhanizar\\anaconda3\\envs\\multimodal\\lib\\site-packages\\pandas\\_libs\\index.pyx:76\u001b[0m, in \u001b[0;36mpandas._libs.index.IndexEngine.get_loc\u001b[1;34m()\u001b[0m\n",
      "File \u001b[1;32mc:\\Users\\rhanizar\\anaconda3\\envs\\multimodal\\lib\\site-packages\\pandas\\_libs\\index.pyx:108\u001b[0m, in \u001b[0;36mpandas._libs.index.IndexEngine.get_loc\u001b[1;34m()\u001b[0m\n",
      "File \u001b[1;32mpandas\\_libs\\hashtable_class_helper.pxi:5198\u001b[0m, in \u001b[0;36mpandas._libs.hashtable.PyObjectHashTable.get_item\u001b[1;34m()\u001b[0m\n",
      "File \u001b[1;32mpandas\\_libs\\hashtable_class_helper.pxi:5206\u001b[0m, in \u001b[0;36mpandas._libs.hashtable.PyObjectHashTable.get_item\u001b[1;34m()\u001b[0m\n",
      "\u001b[1;31mKeyError\u001b[0m: 'Image'",
      "\nThe above exception was the direct cause of the following exception:\n",
      "\u001b[1;31mKeyError\u001b[0m                                  Traceback (most recent call last)",
      "Cell \u001b[1;32mIn[154], line 2\u001b[0m\n\u001b[0;32m      1\u001b[0m \u001b[39m# add test data so that we can make predictions\u001b[39;00m\n\u001b[1;32m----> 2\u001b[0m test_image_data \u001b[39m=\u001b[39m (ImageList\u001b[39m.\u001b[39;49mfrom_df(test_df, path\u001b[39m=\u001b[39;49mimage_path, cols\u001b[39m=\u001b[39;49m\u001b[39m\"\u001b[39;49m\u001b[39mImage\u001b[39;49m\u001b[39m\"\u001b[39;49m,\n\u001b[0;32m      3\u001b[0m                                     folder\u001b[39m=\u001b[39;49m\u001b[39m\"\u001b[39;49m\u001b[39mtest_images\u001b[39;49m\u001b[39m\"\u001b[39;49m, suffix\u001b[39m=\u001b[39;49m\u001b[39m\"\u001b[39;49m\u001b[39m.png\u001b[39;49m\u001b[39m\"\u001b[39;49m))\n\u001b[0;32m      4\u001b[0m image_data\u001b[39m.\u001b[39madd_test(test_image_data)\n",
      "File \u001b[1;32mc:\\Users\\rhanizar\\anaconda3\\envs\\multimodal\\lib\\site-packages\\fastai\\vision\\data.py:285\u001b[0m, in \u001b[0;36mImageList.from_df\u001b[1;34m(cls, df, path, cols, folder, suffix, **kwargs)\u001b[0m\n\u001b[0;32m    283\u001b[0m \u001b[39m\"\u001b[39m\u001b[39mGet the filenames in `cols` of `df` with `folder` in front of them, `suffix` at the end.\u001b[39m\u001b[39m\"\u001b[39m\n\u001b[0;32m    284\u001b[0m suffix \u001b[39m=\u001b[39m suffix \u001b[39mor\u001b[39;00m \u001b[39m'\u001b[39m\u001b[39m'\u001b[39m\n\u001b[1;32m--> 285\u001b[0m res \u001b[39m=\u001b[39m \u001b[39msuper\u001b[39m()\u001b[39m.\u001b[39mfrom_df(df, path\u001b[39m=\u001b[39mpath, cols\u001b[39m=\u001b[39mcols, \u001b[39m*\u001b[39m\u001b[39m*\u001b[39mkwargs)\n\u001b[0;32m    286\u001b[0m pref \u001b[39m=\u001b[39m \u001b[39mf\u001b[39m\u001b[39m'\u001b[39m\u001b[39m{\u001b[39;00mres\u001b[39m.\u001b[39mpath\u001b[39m}\u001b[39;00m\u001b[39m{\u001b[39;00mos\u001b[39m.\u001b[39mpath\u001b[39m.\u001b[39msep\u001b[39m}\u001b[39;00m\u001b[39m'\u001b[39m\n\u001b[0;32m    287\u001b[0m \u001b[39mif\u001b[39;00m folder \u001b[39mis\u001b[39;00m \u001b[39mnot\u001b[39;00m \u001b[39mNone\u001b[39;00m: pref \u001b[39m+\u001b[39m\u001b[39m=\u001b[39m \u001b[39mf\u001b[39m\u001b[39m'\u001b[39m\u001b[39m{\u001b[39;00mfolder\u001b[39m}\u001b[39;00m\u001b[39m{\u001b[39;00mos\u001b[39m.\u001b[39mpath\u001b[39m.\u001b[39msep\u001b[39m}\u001b[39;00m\u001b[39m'\u001b[39m\n",
      "File \u001b[1;32mc:\\Users\\rhanizar\\anaconda3\\envs\\multimodal\\lib\\site-packages\\fastai\\data_block.py:135\u001b[0m, in \u001b[0;36mItemList.from_df\u001b[1;34m(cls, df, path, cols, processor, **kwargs)\u001b[0m\n\u001b[0;32m    132\u001b[0m \u001b[39m@classmethod\u001b[39m\n\u001b[0;32m    133\u001b[0m \u001b[39mdef\u001b[39;00m \u001b[39mfrom_df\u001b[39m(\u001b[39mcls\u001b[39m, df:DataFrame, path:PathOrStr\u001b[39m=\u001b[39m\u001b[39m'\u001b[39m\u001b[39m.\u001b[39m\u001b[39m'\u001b[39m, cols:IntsOrStrs\u001b[39m=\u001b[39m\u001b[39m0\u001b[39m, processor:PreProcessors\u001b[39m=\u001b[39m\u001b[39mNone\u001b[39;00m, \u001b[39m*\u001b[39m\u001b[39m*\u001b[39mkwargs)\u001b[39m-\u001b[39m\u001b[39m>\u001b[39m\u001b[39m'\u001b[39m\u001b[39mItemList\u001b[39m\u001b[39m'\u001b[39m:\n\u001b[0;32m    134\u001b[0m     \u001b[39m\"\u001b[39m\u001b[39mCreate an `ItemList` in `path` from the inputs in the `cols` of `df`.\u001b[39m\u001b[39m\"\u001b[39m\n\u001b[1;32m--> 135\u001b[0m     inputs \u001b[39m=\u001b[39m df\u001b[39m.\u001b[39miloc[:,df_names_to_idx(cols, df)]\n\u001b[0;32m    136\u001b[0m     \u001b[39massert\u001b[39;00m \u001b[39mnot\u001b[39;00m inputs\u001b[39m.\u001b[39misna()\u001b[39m.\u001b[39many()\u001b[39m.\u001b[39many(), \u001b[39mf\u001b[39m\u001b[39m\"\u001b[39m\u001b[39mYou have NaN values in column(s) \u001b[39m\u001b[39m{\u001b[39;00mcols\u001b[39m}\u001b[39;00m\u001b[39m of your dataframe, please fix it.\u001b[39m\u001b[39m\"\u001b[39m\n\u001b[0;32m    137\u001b[0m     res \u001b[39m=\u001b[39m \u001b[39mcls\u001b[39m(items\u001b[39m=\u001b[39m_maybe_squeeze(inputs\u001b[39m.\u001b[39mvalues), path\u001b[39m=\u001b[39mpath, inner_df\u001b[39m=\u001b[39mdf, processor\u001b[39m=\u001b[39mprocessor, \u001b[39m*\u001b[39m\u001b[39m*\u001b[39mkwargs)\n",
      "File \u001b[1;32mc:\\Users\\rhanizar\\anaconda3\\envs\\multimodal\\lib\\site-packages\\fastai\\core.py:264\u001b[0m, in \u001b[0;36mdf_names_to_idx\u001b[1;34m(names, df)\u001b[0m\n\u001b[0;32m    262\u001b[0m \u001b[39mif\u001b[39;00m \u001b[39mnot\u001b[39;00m is_listy(names): names \u001b[39m=\u001b[39m [names]\n\u001b[0;32m    263\u001b[0m \u001b[39mif\u001b[39;00m \u001b[39misinstance\u001b[39m(names[\u001b[39m0\u001b[39m], \u001b[39mint\u001b[39m): \u001b[39mreturn\u001b[39;00m names\n\u001b[1;32m--> 264\u001b[0m \u001b[39mreturn\u001b[39;00m [df\u001b[39m.\u001b[39mcolumns\u001b[39m.\u001b[39mget_loc(c) \u001b[39mfor\u001b[39;00m c \u001b[39min\u001b[39;00m names]\n",
      "File \u001b[1;32mc:\\Users\\rhanizar\\anaconda3\\envs\\multimodal\\lib\\site-packages\\fastai\\core.py:264\u001b[0m, in \u001b[0;36m<listcomp>\u001b[1;34m(.0)\u001b[0m\n\u001b[0;32m    262\u001b[0m \u001b[39mif\u001b[39;00m \u001b[39mnot\u001b[39;00m is_listy(names): names \u001b[39m=\u001b[39m [names]\n\u001b[0;32m    263\u001b[0m \u001b[39mif\u001b[39;00m \u001b[39misinstance\u001b[39m(names[\u001b[39m0\u001b[39m], \u001b[39mint\u001b[39m): \u001b[39mreturn\u001b[39;00m names\n\u001b[1;32m--> 264\u001b[0m \u001b[39mreturn\u001b[39;00m [df\u001b[39m.\u001b[39;49mcolumns\u001b[39m.\u001b[39;49mget_loc(c) \u001b[39mfor\u001b[39;00m c \u001b[39min\u001b[39;00m names]\n",
      "File \u001b[1;32mc:\\Users\\rhanizar\\anaconda3\\envs\\multimodal\\lib\\site-packages\\pandas\\core\\indexes\\base.py:3363\u001b[0m, in \u001b[0;36mIndex.get_loc\u001b[1;34m(self, key, method, tolerance)\u001b[0m\n\u001b[0;32m   3361\u001b[0m         \u001b[39mreturn\u001b[39;00m \u001b[39mself\u001b[39m\u001b[39m.\u001b[39m_engine\u001b[39m.\u001b[39mget_loc(casted_key)\n\u001b[0;32m   3362\u001b[0m     \u001b[39mexcept\u001b[39;00m \u001b[39mKeyError\u001b[39;00m \u001b[39mas\u001b[39;00m err:\n\u001b[1;32m-> 3363\u001b[0m         \u001b[39mraise\u001b[39;00m \u001b[39mKeyError\u001b[39;00m(key) \u001b[39mfrom\u001b[39;00m \u001b[39merr\u001b[39;00m\n\u001b[0;32m   3365\u001b[0m \u001b[39mif\u001b[39;00m is_scalar(key) \u001b[39mand\u001b[39;00m isna(key) \u001b[39mand\u001b[39;00m \u001b[39mnot\u001b[39;00m \u001b[39mself\u001b[39m\u001b[39m.\u001b[39mhasnans:\n\u001b[0;32m   3366\u001b[0m     \u001b[39mraise\u001b[39;00m \u001b[39mKeyError\u001b[39;00m(key)\n",
      "\u001b[1;31mKeyError\u001b[0m: 'Image'"
     ]
    }
   ],
   "source": [
    "\n",
    "# add test data so that we can make predictions\n",
    "test_image_data = (ImageList.from_df(test_df, path=image_path, cols=\"Image\",\n",
    "                                    folder=\"test_images_processed\", suffix=\".png\"))\n",
    "image_data.add_test(test_image_data)"
   ]
  },
  {
   "cell_type": "code",
   "execution_count": 129,
   "metadata": {},
   "outputs": [
    {
     "name": "stdout",
     "output_type": "stream",
     "text": [
      "1\n"
     ]
    },
    {
     "data": {
      "image/jpeg": "[encoded data removed]",
      "image/png": "[encoded data removed]",
      "text/plain": [
       "Image (3, 128, 128)"
      ]
     },
     "execution_count": 129,
     "metadata": {},
     "output_type": "execute_result"
    }
   ],
   "source": [
    "\n",
    "# show one example image\n",
    "print(image_data.train[0][1])\n",
    "image_data.train[0][0]"
   ]
  },
  {
   "attachments": {},
   "cell_type": "markdown",
   "metadata": {},
   "source": [
    "Tabular Data"
   ]
  },
  {
   "cell_type": "code",
   "execution_count": 130,
   "metadata": {},
   "outputs": [],
   "source": [
    "dep_var = 'SCORE'\n",
    "cat_names = [ 'LANES','TYPE TRAIT', 'HAS SHOULDER', 'P_PENETRANTE', 'P_PEAGE', 'P_AIRE_SERVICE', 'ENTREE VILLE']\n",
    "cont_names = ['TMJA', 'TR', 'DMU']\n",
    "procs = [Categorify]"
   ]
  },
  {
   "cell_type": "code",
   "execution_count": 131,
   "metadata": {},
   "outputs": [
    {
     "ename": "KeyError",
     "evalue": "\"['TMJA'] not in index\"",
     "output_type": "error",
     "traceback": [
      "\u001b[1;31m---------------------------------------------------------------------------\u001b[0m",
      "\u001b[1;31mKeyError\u001b[0m                                  Traceback (most recent call last)",
      "Cell \u001b[1;32mIn[131], line 6\u001b[0m\n\u001b[0;32m      1\u001b[0m tab_data \u001b[39m=\u001b[39m (TabularList\u001b[39m.\u001b[39mfrom_df(train_df, path\u001b[39m=\u001b[39mdata_path, cat_names\u001b[39m=\u001b[39mcat_names, cont_names\u001b[39m=\u001b[39mcont_names, procs\u001b[39m=\u001b[39mprocs)\n\u001b[0;32m      2\u001b[0m                            \u001b[39m.\u001b[39msplit_by_idx(val_idx)\n\u001b[0;32m      3\u001b[0m                            \u001b[39m.\u001b[39mlabel_from_df(cols\u001b[39m=\u001b[39mdep_var))\n\u001b[0;32m      5\u001b[0m \u001b[39m# add test\u001b[39;00m\n\u001b[1;32m----> 6\u001b[0m tab_data\u001b[39m.\u001b[39;49madd_test(TabularList\u001b[39m.\u001b[39;49mfrom_df(test_df, cat_names\u001b[39m=\u001b[39;49mcat_names, cont_names\u001b[39m=\u001b[39;49mcont_names,\n\u001b[0;32m      7\u001b[0m                                       processor \u001b[39m=\u001b[39;49m tab_data\u001b[39m.\u001b[39;49mtrain\u001b[39m.\u001b[39;49mx\u001b[39m.\u001b[39;49mprocessor))\n",
      "File \u001b[1;32mc:\\Users\\rhanizar\\anaconda3\\envs\\multimodal\\lib\\site-packages\\fastai\\data_block.py:563\u001b[0m, in \u001b[0;36mLabelLists.add_test\u001b[1;34m(self, items, label, tfms, tfm_y)\u001b[0m\n\u001b[0;32m    561\u001b[0m \u001b[39melse\u001b[39;00m: labels \u001b[39m=\u001b[39m \u001b[39mself\u001b[39m\u001b[39m.\u001b[39mvalid\u001b[39m.\u001b[39my\u001b[39m.\u001b[39mnew([label] \u001b[39m*\u001b[39m \u001b[39mlen\u001b[39m(items))\u001b[39m.\u001b[39mprocess()\n\u001b[0;32m    562\u001b[0m \u001b[39mif\u001b[39;00m \u001b[39misinstance\u001b[39m(items, MixedItemList): items \u001b[39m=\u001b[39m \u001b[39mself\u001b[39m\u001b[39m.\u001b[39mvalid\u001b[39m.\u001b[39mx\u001b[39m.\u001b[39mnew(items\u001b[39m.\u001b[39mitem_lists, inner_df\u001b[39m=\u001b[39mitems\u001b[39m.\u001b[39minner_df)\u001b[39m.\u001b[39mprocess()\n\u001b[1;32m--> 563\u001b[0m \u001b[39melif\u001b[39;00m \u001b[39misinstance\u001b[39m(items, ItemList): items \u001b[39m=\u001b[39m \u001b[39mself\u001b[39;49m\u001b[39m.\u001b[39;49mvalid\u001b[39m.\u001b[39;49mx\u001b[39m.\u001b[39;49mnew(items\u001b[39m.\u001b[39;49mitems, inner_df\u001b[39m=\u001b[39;49mitems\u001b[39m.\u001b[39;49minner_df)\u001b[39m.\u001b[39;49mprocess()\n\u001b[0;32m    564\u001b[0m \u001b[39melse\u001b[39;00m: items \u001b[39m=\u001b[39m \u001b[39mself\u001b[39m\u001b[39m.\u001b[39mvalid\u001b[39m.\u001b[39mx\u001b[39m.\u001b[39mnew(items)\u001b[39m.\u001b[39mprocess()\n\u001b[0;32m    565\u001b[0m \u001b[39mself\u001b[39m\u001b[39m.\u001b[39mtest \u001b[39m=\u001b[39m \u001b[39mself\u001b[39m\u001b[39m.\u001b[39mvalid\u001b[39m.\u001b[39mnew(items, labels, tfms\u001b[39m=\u001b[39mtfms, tfm_y\u001b[39m=\u001b[39mtfm_y)\n",
      "File \u001b[1;32mc:\\Users\\rhanizar\\anaconda3\\envs\\multimodal\\lib\\site-packages\\fastai\\data_block.py:84\u001b[0m, in \u001b[0;36mItemList.process\u001b[1;34m(self, processor)\u001b[0m\n\u001b[0;32m     82\u001b[0m \u001b[39mif\u001b[39;00m processor \u001b[39mis\u001b[39;00m \u001b[39mnot\u001b[39;00m \u001b[39mNone\u001b[39;00m: \u001b[39mself\u001b[39m\u001b[39m.\u001b[39mprocessor \u001b[39m=\u001b[39m processor\n\u001b[0;32m     83\u001b[0m \u001b[39mself\u001b[39m\u001b[39m.\u001b[39mprocessor \u001b[39m=\u001b[39m listify(\u001b[39mself\u001b[39m\u001b[39m.\u001b[39mprocessor)\n\u001b[1;32m---> 84\u001b[0m \u001b[39mfor\u001b[39;00m p \u001b[39min\u001b[39;00m \u001b[39mself\u001b[39m\u001b[39m.\u001b[39mprocessor: p\u001b[39m.\u001b[39;49mprocess(\u001b[39mself\u001b[39;49m)\n\u001b[0;32m     85\u001b[0m \u001b[39mreturn\u001b[39;00m \u001b[39mself\u001b[39m\n",
      "File \u001b[1;32mc:\\Users\\rhanizar\\anaconda3\\envs\\multimodal\\lib\\site-packages\\fastai\\tabular\\data.py:77\u001b[0m, in \u001b[0;36mTabularProcessor.process\u001b[1;34m(self, ds)\u001b[0m\n\u001b[0;32m     75\u001b[0m \u001b[39melse\u001b[39;00m: ds\u001b[39m.\u001b[39mcodes,ds\u001b[39m.\u001b[39mclasses,\u001b[39mself\u001b[39m\u001b[39m.\u001b[39mclasses,cat_cols \u001b[39m=\u001b[39m \u001b[39mNone\u001b[39;00m,\u001b[39mNone\u001b[39;00m,\u001b[39mNone\u001b[39;00m,[]\n\u001b[0;32m     76\u001b[0m \u001b[39mif\u001b[39;00m \u001b[39mlen\u001b[39m(ds\u001b[39m.\u001b[39mcont_names) \u001b[39m!=\u001b[39m \u001b[39m0\u001b[39m:\n\u001b[1;32m---> 77\u001b[0m     ds\u001b[39m.\u001b[39mconts \u001b[39m=\u001b[39m np\u001b[39m.\u001b[39mstack([c\u001b[39m.\u001b[39mastype(\u001b[39m'\u001b[39m\u001b[39mfloat32\u001b[39m\u001b[39m'\u001b[39m)\u001b[39m.\u001b[39mvalues \u001b[39mfor\u001b[39;00m n,c \u001b[39min\u001b[39;00m ds\u001b[39m.\u001b[39;49minner_df[ds\u001b[39m.\u001b[39;49mcont_names]\u001b[39m.\u001b[39mitems()], \u001b[39m1\u001b[39m)\n\u001b[0;32m     78\u001b[0m     cont_cols \u001b[39m=\u001b[39m \u001b[39mlist\u001b[39m(ds\u001b[39m.\u001b[39minner_df[ds\u001b[39m.\u001b[39mcont_names]\u001b[39m.\u001b[39mcolumns\u001b[39m.\u001b[39mvalues)\n\u001b[0;32m     79\u001b[0m \u001b[39melse\u001b[39;00m: ds\u001b[39m.\u001b[39mconts,cont_cols \u001b[39m=\u001b[39m \u001b[39mNone\u001b[39;00m,[]\n",
      "File \u001b[1;32mc:\\Users\\rhanizar\\anaconda3\\envs\\multimodal\\lib\\site-packages\\pandas\\core\\frame.py:3464\u001b[0m, in \u001b[0;36mDataFrame.__getitem__\u001b[1;34m(self, key)\u001b[0m\n\u001b[0;32m   3462\u001b[0m     \u001b[39mif\u001b[39;00m is_iterator(key):\n\u001b[0;32m   3463\u001b[0m         key \u001b[39m=\u001b[39m \u001b[39mlist\u001b[39m(key)\n\u001b[1;32m-> 3464\u001b[0m     indexer \u001b[39m=\u001b[39m \u001b[39mself\u001b[39;49m\u001b[39m.\u001b[39;49mloc\u001b[39m.\u001b[39;49m_get_listlike_indexer(key, axis\u001b[39m=\u001b[39;49m\u001b[39m1\u001b[39;49m)[\u001b[39m1\u001b[39m]\n\u001b[0;32m   3466\u001b[0m \u001b[39m# take() does not accept boolean indexers\u001b[39;00m\n\u001b[0;32m   3467\u001b[0m \u001b[39mif\u001b[39;00m \u001b[39mgetattr\u001b[39m(indexer, \u001b[39m\"\u001b[39m\u001b[39mdtype\u001b[39m\u001b[39m\"\u001b[39m, \u001b[39mNone\u001b[39;00m) \u001b[39m==\u001b[39m \u001b[39mbool\u001b[39m:\n",
      "File \u001b[1;32mc:\\Users\\rhanizar\\anaconda3\\envs\\multimodal\\lib\\site-packages\\pandas\\core\\indexing.py:1314\u001b[0m, in \u001b[0;36m_LocIndexer._get_listlike_indexer\u001b[1;34m(self, key, axis)\u001b[0m\n\u001b[0;32m   1311\u001b[0m \u001b[39melse\u001b[39;00m:\n\u001b[0;32m   1312\u001b[0m     keyarr, indexer, new_indexer \u001b[39m=\u001b[39m ax\u001b[39m.\u001b[39m_reindex_non_unique(keyarr)\n\u001b[1;32m-> 1314\u001b[0m \u001b[39mself\u001b[39;49m\u001b[39m.\u001b[39;49m_validate_read_indexer(keyarr, indexer, axis)\n\u001b[0;32m   1316\u001b[0m \u001b[39mif\u001b[39;00m needs_i8_conversion(ax\u001b[39m.\u001b[39mdtype) \u001b[39mor\u001b[39;00m \u001b[39misinstance\u001b[39m(\n\u001b[0;32m   1317\u001b[0m     ax, (IntervalIndex, CategoricalIndex)\n\u001b[0;32m   1318\u001b[0m ):\n\u001b[0;32m   1319\u001b[0m     \u001b[39m# For CategoricalIndex take instead of reindex to preserve dtype.\u001b[39;00m\n\u001b[0;32m   1320\u001b[0m     \u001b[39m#  For IntervalIndex this is to map integers to the Intervals they match to.\u001b[39;00m\n\u001b[0;32m   1321\u001b[0m     keyarr \u001b[39m=\u001b[39m ax\u001b[39m.\u001b[39mtake(indexer)\n",
      "File \u001b[1;32mc:\\Users\\rhanizar\\anaconda3\\envs\\multimodal\\lib\\site-packages\\pandas\\core\\indexing.py:1377\u001b[0m, in \u001b[0;36m_LocIndexer._validate_read_indexer\u001b[1;34m(self, key, indexer, axis)\u001b[0m\n\u001b[0;32m   1374\u001b[0m     \u001b[39mraise\u001b[39;00m \u001b[39mKeyError\u001b[39;00m(\u001b[39mf\u001b[39m\u001b[39m\"\u001b[39m\u001b[39mNone of [\u001b[39m\u001b[39m{\u001b[39;00mkey\u001b[39m}\u001b[39;00m\u001b[39m] are in the [\u001b[39m\u001b[39m{\u001b[39;00maxis_name\u001b[39m}\u001b[39;00m\u001b[39m]\u001b[39m\u001b[39m\"\u001b[39m)\n\u001b[0;32m   1376\u001b[0m not_found \u001b[39m=\u001b[39m \u001b[39mlist\u001b[39m(ensure_index(key)[missing_mask\u001b[39m.\u001b[39mnonzero()[\u001b[39m0\u001b[39m]]\u001b[39m.\u001b[39munique())\n\u001b[1;32m-> 1377\u001b[0m \u001b[39mraise\u001b[39;00m \u001b[39mKeyError\u001b[39;00m(\u001b[39mf\u001b[39m\u001b[39m\"\u001b[39m\u001b[39m{\u001b[39;00mnot_found\u001b[39m}\u001b[39;00m\u001b[39m not in index\u001b[39m\u001b[39m\"\u001b[39m)\n",
      "\u001b[1;31mKeyError\u001b[0m: \"['TMJA'] not in index\""
     ]
    }
   ],
   "source": [
    "tab_data = (TabularList.from_df(train_df, path=data_path, cat_names=cat_names, cont_names=cont_names, procs=procs)\n",
    "                           .split_by_idx(val_idx)\n",
    "                           .label_from_df(cols=dep_var))\n",
    "\n",
    "# add test\n",
    "tab_data.add_test(TabularList.from_df(test_df, cat_names=cat_names, cont_names=cont_names,\n",
    "                                      processor = tab_data.train.x.processor))\n",
    "     "
   ]
  },
  {
   "cell_type": "code",
   "execution_count": 86,
   "metadata": {},
   "outputs": [
    {
     "data": {
      "text/plain": [
       "(TabularLine LANES 6; TYPE TRAIT Discontinue; HAS SHOULDER no; P_PENETRANTE Non; P_PEAGE Non; P_AIRE_SERVICE Non; ENTREE VILLE Non; TMJA 10588.0000; TR 0.0000; DMU 14.0000; ,\n",
       " Category 1)"
      ]
     },
     "execution_count": 86,
     "metadata": {},
     "output_type": "execute_result"
    }
   ],
   "source": [
    "# one example\n",
    "tab_data.train[0]"
   ]
  },
  {
   "attachments": {},
   "cell_type": "markdown",
   "metadata": {},
   "source": [
    "Integrate image and tabular data"
   ]
  },
  {
   "cell_type": "code",
   "execution_count": 87,
   "metadata": {},
   "outputs": [],
   "source": [
    "integrate_train, integrate_valid, integrate_test = get_imagetabdatasets(image_data, tab_data)"
   ]
  },
  {
   "cell_type": "code",
   "execution_count": 91,
   "metadata": {},
   "outputs": [
    {
     "data": {
      "text/plain": [
       "DataBunch;\n",
       "\n",
       "Train: <image_tabular.dataset.ImageTabDataset object at 0x00000230AD308430>;\n",
       "\n",
       "Valid: <image_tabular.dataset.ImageTabDataset object at 0x00000230AD308040>;\n",
       "\n",
       "Test: <image_tabular.dataset.ImageTabDataset object at 0x00000230AD308A00>"
      ]
     },
     "execution_count": 91,
     "metadata": {},
     "output_type": "execute_result"
    }
   ],
   "source": [
    "# package train, valid, and test datasets into a fastai databunch\n",
    "bs = 64\n",
    "db = DataBunch.create(integrate_train, integrate_valid, integrate_test,\n",
    "                      path=data_path, bs=16)\n",
    "db"
   ]
  },
  {
   "cell_type": "code",
   "execution_count": 81,
   "metadata": {},
   "outputs": [],
   "source": [
    "# image normalization with imagenet_stats\n",
    "db.norm, db.denorm = normalize_funcs_image_tab(*imagenet_stats)\n",
    "#db.add_tfm(db.norm)\n",
    "     "
   ]
  },
  {
   "cell_type": "code",
   "execution_count": 92,
   "metadata": {},
   "outputs": [
    {
     "data": {
      "text/plain": [
       "2"
      ]
     },
     "execution_count": 92,
     "metadata": {},
     "output_type": "execute_result"
    }
   ],
   "source": [
    "# check the shape of one batch\n",
    "x, y = next(iter(db.train_dl))\n",
    "len(x)"
   ]
  },
  {
   "cell_type": "code",
   "execution_count": 93,
   "metadata": {},
   "outputs": [
    {
     "data": {
      "text/plain": [
       "torch.Size([16, 3, 128, 128])"
      ]
     },
     "execution_count": 93,
     "metadata": {},
     "output_type": "execute_result"
    }
   ],
   "source": [
    "# images\n",
    "x[0].shape"
   ]
  },
  {
   "cell_type": "code",
   "execution_count": 94,
   "metadata": {},
   "outputs": [
    {
     "data": {
      "text/plain": [
       "(torch.Size([16, 7]), torch.Size([16, 3]))"
      ]
     },
     "execution_count": 94,
     "metadata": {},
     "output_type": "execute_result"
    }
   ],
   "source": [
    "# categorical and continuous tabular data \n",
    "x[1][0].shape, x[1][1].shape\n",
    "     "
   ]
  },
  {
   "cell_type": "code",
   "execution_count": 95,
   "metadata": {},
   "outputs": [
    {
     "data": {
      "text/plain": [
       "torch.Size([16])"
      ]
     },
     "execution_count": 95,
     "metadata": {},
     "output_type": "execute_result"
    }
   ],
   "source": [
    "# targets\n",
    "y.shape "
   ]
  },
  {
   "attachments": {},
   "cell_type": "markdown",
   "metadata": {},
   "source": [
    "Model that trains on image and tabular data simultaneously"
   ]
  },
  {
   "cell_type": "code",
   "execution_count": 96,
   "metadata": {},
   "outputs": [
    {
     "name": "stdout",
     "output_type": "stream",
     "text": [
      "You can deactivate this warning by passing `no_check=True`.\n"
     ]
    }
   ],
   "source": [
    "# cnn model for images, use Resnet50 as an example\n",
    "cnn_arch = models.resnet50\n",
    "\n",
    "# cnn_out_sz is the output size of the cnn model that will be concatenated with tabular model output\n",
    "cnn_out_sz = 256\n",
    "\n",
    "# use fastai functions to get a cnn model\n",
    "image_data_db = image_data.databunch()\n",
    "image_data_db.c = cnn_out_sz\n",
    "cnn_learn = cnn_learner(image_data_db, cnn_arch, ps=0.2)\n",
    "cnn_model = cnn_learn.model"
   ]
  },
  {
   "cell_type": "code",
   "execution_count": 97,
   "metadata": {},
   "outputs": [
    {
     "data": {
      "text/plain": [
       "TabularModel(\n",
       "  (embeds): ModuleList(\n",
       "    (0): Embedding(5, 4)\n",
       "    (1): Embedding(3, 3)\n",
       "    (2): Embedding(4, 3)\n",
       "    (3): Embedding(3, 3)\n",
       "    (4): Embedding(3, 3)\n",
       "    (5): Embedding(3, 3)\n",
       "    (6): Embedding(3, 3)\n",
       "  )\n",
       "  (emb_drop): Dropout(p=0.0, inplace=False)\n",
       "  (bn_cont): BatchNorm1d(3, eps=1e-05, momentum=0.1, affine=True, track_running_stats=True)\n",
       "  (layers): Sequential(\n",
       "    (0): Linear(in_features=25, out_features=11, bias=True)\n",
       "    (1): ReLU(inplace=True)\n",
       "    (2): BatchNorm1d(11, eps=1e-05, momentum=0.1, affine=True, track_running_stats=True)\n",
       "    (3): Dropout(p=0.2, inplace=False)\n",
       "    (4): Linear(in_features=11, out_features=11, bias=True)\n",
       "  )\n",
       ")"
      ]
     },
     "execution_count": 97,
     "metadata": {},
     "output_type": "execute_result"
    }
   ],
   "source": [
    "# get embedding sizes of categorical data\n",
    "emb_szs = tab_data.train.get_emb_szs()\n",
    "\n",
    "# output size of the tabular model that will be concatenated with cnn model output\n",
    "tab_out_sz = 11\n",
    "\n",
    "# use fastai functions to get a tabular model\n",
    "tabular_model = TabularModel(emb_szs, len(cont_names), out_sz=tab_out_sz, layers=[11], ps=0.2)\n",
    "tabular_model"
   ]
  },
  {
   "cell_type": "code",
   "execution_count": 98,
   "metadata": {},
   "outputs": [],
   "source": [
    "\n",
    "# get an integrated model that combines the two components and concatenate their outputs\n",
    "# which will pass through additional fully connected layers\n",
    "integrate_model = CNNTabularModel(cnn_model,\n",
    "                                  tabular_model,\n",
    "                                  layers = [cnn_out_sz + tab_out_sz, 32],\n",
    "                                  ps=0.2,\n",
    "                                  out_sz=2).to(device)\n",
    "     "
   ]
  },
  {
   "cell_type": "code",
   "execution_count": 99,
   "metadata": {},
   "outputs": [
    {
     "data": {
      "text/plain": [
       "torch.Size([16, 2])"
      ]
     },
     "execution_count": 99,
     "metadata": {},
     "output_type": "execute_result"
    }
   ],
   "source": [
    "\n",
    "# check model output dimension, should be (bs, 2)\n",
    "integrate_model(*x).shape"
   ]
  },
  {
   "cell_type": "code",
   "execution_count": 100,
   "metadata": {},
   "outputs": [],
   "source": [
    "# adjust loss function weight because the dataset is extremely unbalanced\n",
    "weights = [1/(1-train_df[\"SCORE\"].mean()), 1/train_df[\"SCORE\"].mean()]\n",
    "loss_func = CrossEntropyFlat(weight=torch.FloatTensor(weights).to(device))"
   ]
  },
  {
   "cell_type": "code",
   "execution_count": 101,
   "metadata": {},
   "outputs": [],
   "source": [
    "# package everything in a fastai learner, add auc roc score as a metric\n",
    "learn = Learner(db, integrate_model, metrics=[accuracy, ROCAUC()], loss_func=loss_func)"
   ]
  },
  {
   "cell_type": "code",
   "execution_count": 102,
   "metadata": {},
   "outputs": [],
   "source": [
    "# organize layer groups in order to use differential learning rates provided by fastai\n",
    "# the first two layer groups are earlier layers of resnet\n",
    "# the last layer group consists of the fully connected layers of cnn model, tabular model,\n",
    "# and final fully connected layers for the concatenated data\n",
    "learn.layer_groups = [nn.Sequential(*flatten_model(cnn_learn.layer_groups[0])),\n",
    "                      nn.Sequential(*flatten_model(cnn_learn.layer_groups[1])),\n",
    "                      nn.Sequential(*(flatten_model(cnn_learn.layer_groups[2]) +\n",
    "                                      flatten_model(integrate_model.tabular_model) +\n",
    "                                      flatten_model(integrate_model.layers)))]\n",
    "     "
   ]
  },
  {
   "attachments": {},
   "cell_type": "markdown",
   "metadata": {},
   "source": [
    "Training"
   ]
  },
  {
   "cell_type": "code",
   "execution_count": 103,
   "metadata": {},
   "outputs": [
    {
     "name": "stdout",
     "output_type": "stream",
     "text": [
      "LR Finder is complete, type {learner_name}.recorder.plot() to see the graph.\n"
     ]
    },
    {
     "data": {
      "image/png": "[encoded data removed]",
      "text/plain": [
       "<Figure size 640x480 with 1 Axes>"
      ]
     },
     "metadata": {},
     "output_type": "display_data"
    }
   ],
   "source": [
    "# find learning rate to train the last layer group first \n",
    "learn.freeze()\n",
    "learn.lr_find()\n",
    "learn.recorder.plot()"
   ]
  },
  {
   "cell_type": "code",
   "execution_count": 109,
   "metadata": {},
   "outputs": [],
   "source": [
    "# train\n",
    "learn.fit_one_cycle(10, 1e-4)"
   ]
  },
  {
   "cell_type": "code",
   "execution_count": 105,
   "metadata": {},
   "outputs": [],
   "source": [
    "# unfreeze all layer groups to train the entire model using differential learning rates\n",
    "learn.unfreeze()\n",
    "learn.fit_one_cycle(5, slice(1e-6, 1e-4))"
   ]
  },
  {
   "cell_type": "code",
   "execution_count": 107,
   "metadata": {},
   "outputs": [
    {
     "ename": "AttributeError",
     "evalue": "'Learner' object has no attribute 'plot_loss'",
     "output_type": "error",
     "traceback": [
      "\u001b[1;31m---------------------------------------------------------------------------\u001b[0m",
      "\u001b[1;31mAttributeError\u001b[0m                            Traceback (most recent call last)",
      "Cell \u001b[1;32mIn[107], line 1\u001b[0m\n\u001b[1;32m----> 1\u001b[0m learn\u001b[39m.\u001b[39;49mrecorder\u001b[39m.\u001b[39;49mplot_loss()\n",
      "File \u001b[1;32mc:\\Users\\rhanizar\\anaconda3\\envs\\multimodal\\lib\\site-packages\\fastai\\basic_train.py:443\u001b[0m, in \u001b[0;36mLearnerCallback.__getattr__\u001b[1;34m(self, k)\u001b[0m\n\u001b[1;32m--> 443\u001b[0m \u001b[39mdef\u001b[39;00m \u001b[39m__getattr__\u001b[39m(\u001b[39mself\u001b[39m,k): \u001b[39mreturn\u001b[39;00m \u001b[39mgetattr\u001b[39;49m(\u001b[39mself\u001b[39;49m\u001b[39m.\u001b[39;49mlearn, k)\n",
      "\u001b[1;31mAttributeError\u001b[0m: 'Learner' object has no attribute 'plot_loss'"
     ]
    }
   ],
   "source": [
    "learn.recorder.plot_loss()"
   ]
  },
  {
   "attachments": {},
   "cell_type": "markdown",
   "metadata": {},
   "source": [
    "Prediction"
   ]
  },
  {
   "cell_type": "code",
   "execution_count": null,
   "metadata": {},
   "outputs": [],
   "source": [
    "# make predictions for the test set\n",
    "preds, y = learn.get_preds(DatasetType.Test)"
   ]
  },
  {
   "cell_type": "code",
   "execution_count": null,
   "metadata": {},
   "outputs": [],
   "source": [
    "# submit predictions to kaggle\n",
    "submit = pd.read_csv(data_path/\"sample_submission.csv\")\n",
    "submit[\"target\"] = preds[:, 1]\n",
    "submit.to_csv(data_path/\"image_tab.csv\", index=False)"
   ]
  }
 ],
 "metadata": {
  "kernelspec": {
   "display_name": "multimodal",
   "language": "python",
   "name": "python3"
  },
  "language_info": {
   "codemirror_mode": {
    "name": "ipython",
    "version": 3
   },
   "file_extension": ".py",
   "mimetype": "text/x-python",
   "name": "python",
   "nbconvert_exporter": "python",
   "pygments_lexer": "ipython3",
   "version": "3.9.16"
  },
  "orig_nbformat": 4
 },
 "nbformat": 4,
 "nbformat_minor": 2
}
